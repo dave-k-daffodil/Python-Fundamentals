{
  "nbformat": 4,
  "nbformat_minor": 0,
  "metadata": {
    "colab": {
      "provenance": []
    },
    "kernelspec": {
      "name": "python3",
      "display_name": "Python 3"
    },
    "language_info": {
      "name": "python"
    }
  },
  "cells": [
    {
      "cell_type": "code",
      "execution_count": 2,
      "metadata": {
        "id": "GxGAZwokaOoG"
      },
      "outputs": [],
      "source": [
        "#Q1: Print the given strings as per stated format."
      ]
    },
    {
      "cell_type": "code",
      "source": [
        "string = [\"Data\", \"Science\", \"Mentorship\", \"Program\", \"By\", \"Wayspire\"]\n",
        "result = \"-\".join(string[:4]) + \"-started-\" + \"-\".join(string[4:])\n",
        "print(result)"
      ],
      "metadata": {
        "colab": {
          "base_uri": "https://localhost:8080/"
        },
        "id": "j6_2eT2faxDB",
        "outputId": "9e89b206-0133-4676-dcdf-7a29b658b1eb"
      },
      "execution_count": 4,
      "outputs": [
        {
          "output_type": "stream",
          "name": "stdout",
          "text": [
            "Data-Science-Mentorship-Program-started-By-Wayspire\n"
          ]
        }
      ]
    },
    {
      "cell_type": "code",
      "source": [
        "#Q2: Celsius to Fahrenheit Converter"
      ],
      "metadata": {
        "id": "AVe_XyX_a7sa"
      },
      "execution_count": 5,
      "outputs": []
    },
    {
      "cell_type": "code",
      "source": [
        "celsius = float(input(\"Enter Celsius: \"))\n",
        "fahrenheit = (celsius * 9/5) + 32\n",
        "print(f\"Fahrenheit: {fahrenheit:.2f}\")"
      ],
      "metadata": {
        "colab": {
          "base_uri": "https://localhost:8080/"
        },
        "id": "HmM9d-xJbz5m",
        "outputId": "d4179336-0356-4f80-a3f5-9c30b411fe85"
      },
      "execution_count": 6,
      "outputs": [
        {
          "output_type": "stream",
          "name": "stdout",
          "text": [
            "Enter Celsius: 32\n",
            "Fahrenheit: 89.60\n"
          ]
        }
      ]
    },
    {
      "cell_type": "code",
      "source": [
        "#Q3: Swap Numbers Without Python Syntax"
      ],
      "metadata": {
        "id": "zpfmWuK9cBtG"
      },
      "execution_count": 7,
      "outputs": []
    },
    {
      "cell_type": "code",
      "source": [
        "a = int(input(\"Enter first number: \"))\n",
        "b = int(input(\"Enter second number: \"))\n",
        "a = a + b\n",
        "b = a - b\n",
        "a = a - b\n",
        "print(f\"Swapped: {a}, {b}\")"
      ],
      "metadata": {
        "colab": {
          "base_uri": "https://localhost:8080/"
        },
        "id": "mQ4LzQxTcFgA",
        "outputId": "8a3dfe72-3c13-480f-bb5a-d5a22f20682a"
      },
      "execution_count": 8,
      "outputs": [
        {
          "output_type": "stream",
          "name": "stdout",
          "text": [
            "Enter first number: 7\n",
            "Enter second number: 5\n",
            "Swapped: 5, 7\n"
          ]
        }
      ]
    },
    {
      "cell_type": "code",
      "source": [
        "#Q4: Euclidean Distance Calculator"
      ],
      "metadata": {
        "id": "MQJ5NW3qcQFe"
      },
      "execution_count": 9,
      "outputs": []
    },
    {
      "cell_type": "code",
      "source": [
        "x1 = float(input(\"Enter x1: \"))\n",
        "y1 = float(input(\"Enter y1: \"))\n",
        "x2 = float(input(\"Enter x2: \"))\n",
        "y2 = float(input(\"Enter y2: \"))\n",
        "distance = ((x2 - x1)**2 + (y2 - y1)**2)**0.5\n",
        "print(f\"Distance: {distance:.2f}\")"
      ],
      "metadata": {
        "colab": {
          "base_uri": "https://localhost:8080/"
        },
        "id": "SSAF8kS7cV45",
        "outputId": "038696cc-c7af-4995-99a4-bb19e0545e4a"
      },
      "execution_count": 10,
      "outputs": [
        {
          "output_type": "stream",
          "name": "stdout",
          "text": [
            "Enter x1: 65\n",
            "Enter y1: 43\n",
            "Enter x2: 89\n",
            "Enter y2: 68\n",
            "Distance: 34.66\n"
          ]
        }
      ]
    },
    {
      "cell_type": "code",
      "source": [
        "#Q5: Simple Interest Calculator"
      ],
      "metadata": {
        "id": "DH6MEvV_caL3"
      },
      "execution_count": 11,
      "outputs": []
    },
    {
      "cell_type": "code",
      "source": [
        "P = float(input(\"Principal: \"))\n",
        "R = float(input(\"Rate (%): \"))\n",
        "T = float(input(\"Time (years): \"))\n",
        "interest = (P * R * T) / 100\n",
        "print(f\"Simple Interest: {interest:.2f}\")"
      ],
      "metadata": {
        "colab": {
          "base_uri": "https://localhost:8080/"
        },
        "id": "vgGwSlmacjwc",
        "outputId": "2dfe1707-c6ae-4dc1-f4d6-02845a522125"
      },
      "execution_count": 12,
      "outputs": [
        {
          "output_type": "stream",
          "name": "stdout",
          "text": [
            "Principal: 1000\n",
            "Rate (%): 5\n",
            "Time (years): 3\n",
            "Simple Interest: 150.00\n"
          ]
        }
      ]
    },
    {
      "cell_type": "code",
      "source": [
        "#Q6: Dogs & Chicken Counter"
      ],
      "metadata": {
        "id": "ga1snTlacpZF"
      },
      "execution_count": 13,
      "outputs": []
    },
    {
      "cell_type": "code",
      "source": [
        "heads = int(input(\"Heads: \"))\n",
        "legs = int(input(\"Legs: \"))\n",
        "dogs = (legs - 2 * heads)\n",
        "chicken = heads - dogs\n",
        "if dogs < 0 or chicken < 0 or legs % 2 != 0:\n",
        "    print(\"Invalid input\")\n",
        "else:\n",
        "    print(f\"dogs: {dogs}\\nchicken: {chicken}\")"
      ],
      "metadata": {
        "colab": {
          "base_uri": "https://localhost:8080/"
        },
        "id": "KpD06iPAc0W7",
        "outputId": "97813e6a-0c06-4f8f-8380-fe6a15014196"
      },
      "execution_count": 14,
      "outputs": [
        {
          "output_type": "stream",
          "name": "stdout",
          "text": [
            "Heads: 1\n",
            "Legs: 4\n",
            "Invalid input\n"
          ]
        }
      ]
    },
    {
      "cell_type": "code",
      "source": [
        "#Q7: Sum of Squares of First N Natural Numbers"
      ],
      "metadata": {
        "id": "27tQHXEqc7mv"
      },
      "execution_count": 15,
      "outputs": []
    },
    {
      "cell_type": "code",
      "source": [
        "n = int(input(\"Enter n: \"))\n",
        "sum_sq = n * (n + 1) * (2*n + 1)\\\n",
        "print(f\"Sum: {sum_sq}\")"
      ],
      "metadata": {
        "colab": {
          "base_uri": "https://localhost:8080/"
        },
        "id": "8QPEI0undc92",
        "outputId": "bd9bedb7-cde4-4439-d325-bbe52cf013f4"
      },
      "execution_count": 16,
      "outputs": [
        {
          "output_type": "stream",
          "name": "stdout",
          "text": [
            "Enter n: 6\n",
            "Sum: 91\n"
          ]
        }
      ]
    },
    {
      "cell_type": "code",
      "source": [
        "#Q8: Nth Term of Arithmetic Series"
      ],
      "metadata": {
        "id": "pDAYwYRcdgrE"
      },
      "execution_count": 17,
      "outputs": []
    },
    {
      "cell_type": "code",
      "source": [
        "a1 = float(input(\"First term: \"))\n",
        "a2 = float(input(\"Second term: \"))\n",
        "n = int(input(\"N: \"))\n",
        "\n",
        "d = a2 - a1\n",
        "nth_term = a1 + (n - 1) * d\n",
        "print(f\"Nth term: {nth_term}\")"
      ],
      "metadata": {
        "colab": {
          "base_uri": "https://localhost:8080/"
        },
        "id": "Lk4kiJGsdqf8",
        "outputId": "df33fc7d-db5a-4591-9f3f-6dcce923b25b"
      },
      "execution_count": 18,
      "outputs": [
        {
          "output_type": "stream",
          "name": "stdout",
          "text": [
            "First term: 11\n",
            "Second term: 5\n",
            "N: 3\n",
            "Nth term: -1.0\n"
          ]
        }
      ]
    },
    {
      "cell_type": "code",
      "source": [
        "#Q9: Fraction Sum Calculator"
      ],
      "metadata": {
        "id": "or5_ApbUdrKA"
      },
      "execution_count": 19,
      "outputs": []
    },
    {
      "cell_type": "code",
      "source": [
        "def gcd(a, b):\n",
        "    while b:\n",
        "        a, b = b, a % b\n",
        "    return a\n",
        "\n",
        "n1 = int(input(\"Numerator 1: \"))\n",
        "d1 = int(input(\"Denominator 1: \"))\n",
        "n2 = int(input(\"Numerator 2: \"))\n",
        "d2 = int(input(\"Denominator 2: \"))\n",
        "\n",
        "num = n1 * d2 + n2 * d1\n",
        "den = d1 * d2\n",
        "\n",
        "common = gcd(num, den)\n",
        "print(f\"Sum: {num//common}/{den//common}\")"
      ],
      "metadata": {
        "colab": {
          "base_uri": "https://localhost:8080/"
        },
        "id": "XkKadczGdzsN",
        "outputId": "4c980913-1ae4-4aed-eb48-7366a0b7839f"
      },
      "execution_count": 20,
      "outputs": [
        {
          "output_type": "stream",
          "name": "stdout",
          "text": [
            "Numerator 1: 300\n",
            "Denominator 1: 25\n",
            "Numerator 2: 450\n",
            "Denominator 2: 25\n",
            "Sum: 30/1\n"
          ]
        }
      ]
    },
    {
      "cell_type": "code",
      "source": [
        "#Q10: Milk Glass Calculator"
      ],
      "metadata": {
        "id": "FNHmkZX5d4Uq"
      },
      "execution_count": 21,
      "outputs": []
    },
    {
      "cell_type": "code",
      "source": [
        "import math\n",
        "tank_h = float(input(\"Tank height (cm): \"))\n",
        "tank_l = float(input(\"Tank length (cm): \"))\n",
        "tank_b = float(input(\"Tank breadth (cm): \"))\n",
        "glass_h = float(input(\"Glass height (cm): \"))\n",
        "glass_r = float(input(\"Glass radius (cm): \"))\n",
        "\n",
        "tank_vol = tank_h * tank_l * tank_b\n",
        "glass_vol = math.pi * (glass_r ** 2) * glass_h\n",
        "\n",
        "glasses = tank_vol\n",
        "print(f\"Glasses: {int(glasses)}\")"
      ],
      "metadata": {
        "colab": {
          "base_uri": "https://localhost:8080/"
        },
        "id": "Jcuk8xgseB_3",
        "outputId": "8cd963e4-4ede-43f7-d946-9d91fb4561fe"
      },
      "execution_count": 22,
      "outputs": [
        {
          "output_type": "stream",
          "name": "stdout",
          "text": [
            "Tank height (cm): 400\n",
            "Tank length (cm): 200\n",
            "Tank breadth (cm): 600\n",
            "Glass height (cm): 390\n",
            "Glass radius (cm): 270\n",
            "Glasses: 0\n"
          ]
        }
      ]
    },
    {
      "cell_type": "code",
      "source": [
        "#Problem 1: Salary Calculator\n",
        "ctc = float(input(\"CTC (Lakhs): \"))\n",
        "hra = 0.1 * ctc\n",
        "da = 0.05 * ctc\n",
        "pf = 0.03 * ctc\n",
        "\n",
        "taxable = ctc - (hra + da + pf)\n",
        "\n",
        "if taxable < 5:\n",
        "    tax = 0\n",
        "elif 5 <= taxable <= 10:\n",
        "    tax = taxable * 0.1\n",
        "elif 10 < taxable <= 20:\n",
        "    tax = taxable * 0.2\n",
        "else:\n",
        "    tax = taxable * 0.3\n",
        "\n",
        "in_hand_annual = taxable - tax\n",
        "monthly = in_hand_annual / 12\n",
        "print(f\"In-hand monthly: ₹{monthly:.2f}L\")"
      ],
      "metadata": {
        "colab": {
          "base_uri": "https://localhost:8080/"
        },
        "id": "Ed_nGgnfeNVP",
        "outputId": "3ce30962-ea3e-41db-e3a2-d812d7a900dc"
      },
      "execution_count": 23,
      "outputs": [
        {
          "output_type": "stream",
          "name": "stdout",
          "text": [
            "CTC (Lakhs): 500000\n",
            "In-hand monthly: ₹23916.67L\n"
          ]
        }
      ]
    },
    {
      "cell_type": "code",
      "source": [
        "#Problem 2: Triangle Checker\n",
        "\n",
        "a = float(input(\"Angle 1: \"))\n",
        "b = float(input(\"Angle 2: \"))\n",
        "c = float(input(\"Angle 3: \"))\n",
        "\n",
        "valid = (a + b + c == 180) and all(angle > 0 for angle in (a, b, c))\n",
        "print(\"Valid triangle\" if valid else \"Invalid triangle\")"
      ],
      "metadata": {
        "colab": {
          "base_uri": "https://localhost:8080/"
        },
        "id": "dslwkTm0ehRD",
        "outputId": "6f6e0910-40bc-43eb-a937-f2c54ac39677"
      },
      "execution_count": 24,
      "outputs": [
        {
          "output_type": "stream",
          "name": "stdout",
          "text": [
            "Angle 1: 45\n",
            "Angle 2: 60\n",
            "Angle 3: 30\n",
            "Invalid triangle\n"
          ]
        }
      ]
    },
    {
      "cell_type": "code",
      "source": [
        "#Problem 3: Profit/Loss Calculator\n",
        "\n",
        "cp = float(input(\"Cost Price: \"))\n",
        "sp = float(input(\"Selling Price: \"))\n",
        "\n",
        "if sp > cp:\n",
        "    print(f\"Profit: ₹{sp - cp:.2f}\")\n",
        "else:\n",
        "    print(f\"Loss: ₹{cp - sp:.2f}\")"
      ],
      "metadata": {
        "colab": {
          "base_uri": "https://localhost:8080/"
        },
        "id": "ThYXSLNkepKt",
        "outputId": "e656a783-603a-41b1-e37b-edb761327636"
      },
      "execution_count": 25,
      "outputs": [
        {
          "output_type": "stream",
          "name": "stdout",
          "text": [
            "Cost Price: 100\n",
            "Selling Price: 150\n",
            "Profit: ₹50.00\n"
          ]
        }
      ]
    },
    {
      "cell_type": "code",
      "source": [
        "#Problem 4: Unit Converter (Menu-Driven)\n",
        "\n",
        "while True:\n",
        "    print(\"\\n1. cm to ft\\n2. km to miles\\n3. USD to INR\\n4. Exit\")\n",
        "    choice = input(\"Choice: \")\n",
        "\n",
        "    if choice == '1':\n",
        "        cm = float(input(\"cm: \"))\n",
        "        print(f\"{cm} cm = {cm * 0.0328084:.2f} ft\")\n",
        "    elif choice == '2':\n",
        "        km = float(input(\"km: \"))\n",
        "        print(f\"{km} km = {km * 0.621371:.2f} miles\")\n",
        "    elif choice == '3':\n",
        "        usd = float(input(\"USD: \"))\n",
        "        print(f\"${usd} = ₹{usd * 75:.2f}\")\n",
        "    elif choice == '4':\n",
        "        break\n",
        "    else:\n",
        "        print(\"Invalid choice\")"
      ],
      "metadata": {
        "colab": {
          "base_uri": "https://localhost:8080/"
        },
        "id": "6liK6I5Seu2E",
        "outputId": "dd785ca7-8185-4ba2-d99a-931df0f020ad"
      },
      "execution_count": 26,
      "outputs": [
        {
          "name": "stdout",
          "output_type": "stream",
          "text": [
            "\n",
            "1. cm to ft\n",
            "2. km to miles\n",
            "3. USD to INR\n",
            "4. Exit\n",
            "Choice: 2\n",
            "km: 450\n",
            "450.0 km = 279.62 miles\n",
            "\n",
            "1. cm to ft\n",
            "2. km to miles\n",
            "3. USD to INR\n",
            "4. Exit\n",
            "Choice: 4\n"
          ]
        }
      ]
    },
    {
      "cell_type": "code",
      "source": [
        "#Problem 5: Fibonacci Series\n",
        "\n",
        "a, b = 0, 1\n",
        "for _ in range(10):\n",
        "    print(a, end=\" \")\n",
        "    a, b = b, a + b"
      ],
      "metadata": {
        "colab": {
          "base_uri": "https://localhost:8080/"
        },
        "id": "z-qGQwONfDq0",
        "outputId": "86af3cc4-33fd-45ba-d367-4110f20ee60b"
      },
      "execution_count": 27,
      "outputs": [
        {
          "output_type": "stream",
          "name": "stdout",
          "text": [
            "0 1 1 2 3 5 8 13 21 34 "
          ]
        }
      ]
    },
    {
      "cell_type": "code",
      "source": [
        "#Problem 6: Factorial Calculator\n",
        "\n",
        "n = int(input(\"Number: \"))\n",
        "fact = 1\n",
        "for i in range(1, n+1):\n",
        "    fact *= i\n",
        "print(fact)"
      ],
      "metadata": {
        "colab": {
          "base_uri": "https://localhost:8080/"
        },
        "id": "HPu1zpGZfOMr",
        "outputId": "3502faa0-4c65-435d-b97b-6597e829386b"
      },
      "execution_count": 28,
      "outputs": [
        {
          "output_type": "stream",
          "name": "stdout",
          "text": [
            "Number: 7\n",
            "5040\n"
          ]
        }
      ]
    },
    {
      "cell_type": "code",
      "source": [
        "#Problem 7: Reverse Integer\n",
        "\n",
        "num = input(\"Number: \")\n",
        "print(int(num[::-1]))"
      ],
      "metadata": {
        "colab": {
          "base_uri": "https://localhost:8080/"
        },
        "id": "eHG7BJiXfSWE",
        "outputId": "bad97abe-d178-4159-ca04-c40f724b95b6"
      },
      "execution_count": 29,
      "outputs": [
        {
          "output_type": "stream",
          "name": "stdout",
          "text": [
            "Number: 5\n",
            "5\n"
          ]
        }
      ]
    },
    {
      "cell_type": "code",
      "source": [
        "#Problem 8: Conditional Sum\n",
        "\n",
        "n = int(input(\"N: \"))\n",
        "total = 0\n",
        "current = 1\n",
        "\n",
        "while current <= n and total <= 300:\n",
        "    if current % 5 != 0:\n",
        "        total += current\n",
        "    if total > 300:\n",
        "        total -= current\n",
        "        break\n",
        "    current += 1\n",
        "\n",
        "print(total)"
      ],
      "metadata": {
        "colab": {
          "base_uri": "https://localhost:8080/"
        },
        "id": "QxDQyYVNfW-m",
        "outputId": "f0434f09-e594-41f2-f99c-5d3dd02942de"
      },
      "execution_count": 30,
      "outputs": [
        {
          "output_type": "stream",
          "name": "stdout",
          "text": [
            "N: 8\n",
            "31\n"
          ]
        }
      ]
    },
    {
      "cell_type": "code",
      "source": [
        "#Problem 9: Sum & Average Calculator\n",
        "\n",
        "total = 0\n",
        "count = 0\n",
        "\n",
        "while True:\n",
        "    num = float(input(\"Enter number (0 to stop): \"))\n",
        "    if num == 0:\n",
        "        break\n",
        "    total += num\n",
        "    count += 1\n",
        "\n",
        "print(f\"Sum: {total}\\nAverage: {total / count if count else 0}\")"
      ],
      "metadata": {
        "colab": {
          "base_uri": "https://localhost:8080/"
        },
        "id": "xkwL0l0TfgRE",
        "outputId": "f8be4e90-5c04-455b-f4d7-8951df62d683"
      },
      "execution_count": 31,
      "outputs": [
        {
          "output_type": "stream",
          "name": "stdout",
          "text": [
            "Enter number (0 to stop): 7\n",
            "Enter number (0 to stop): 3\n",
            "Enter number (0 to stop): 0\n",
            "Sum: 10.0\n",
            "Average: 5.0\n"
          ]
        }
      ]
    },
    {
      "cell_type": "code",
      "source": [
        "#Problem 9 (Duplicate): Divisible by 7 Not 5\n",
        "\n",
        "result = []\n",
        "for num in range(2000, 3201):\n",
        "    if num % 7 == 0 and num % 5 != 0:\n",
        "        result.append(str(num))\n",
        "print(\",\".join(result))"
      ],
      "metadata": {
        "colab": {
          "base_uri": "https://localhost:8080/"
        },
        "id": "engdQhPafxTz",
        "outputId": "3135e57a-a998-4037-e853-063ac2f3ed39"
      },
      "execution_count": 32,
      "outputs": [
        {
          "output_type": "stream",
          "name": "stdout",
          "text": [
            "2002,2009,2016,2023,2037,2044,2051,2058,2072,2079,2086,2093,2107,2114,2121,2128,2142,2149,2156,2163,2177,2184,2191,2198,2212,2219,2226,2233,2247,2254,2261,2268,2282,2289,2296,2303,2317,2324,2331,2338,2352,2359,2366,2373,2387,2394,2401,2408,2422,2429,2436,2443,2457,2464,2471,2478,2492,2499,2506,2513,2527,2534,2541,2548,2562,2569,2576,2583,2597,2604,2611,2618,2632,2639,2646,2653,2667,2674,2681,2688,2702,2709,2716,2723,2737,2744,2751,2758,2772,2779,2786,2793,2807,2814,2821,2828,2842,2849,2856,2863,2877,2884,2891,2898,2912,2919,2926,2933,2947,2954,2961,2968,2982,2989,2996,3003,3017,3024,3031,3038,3052,3059,3066,3073,3087,3094,3101,3108,3122,3129,3136,3143,3157,3164,3171,3178,3192,3199\n"
          ]
        }
      ]
    },
    {
      "cell_type": "code",
      "source": [
        "#Problem 10: All Even Digits\n",
        "\n",
        "result = []\n",
        "for num in range(1000, 3001):\n",
        "    if all(int(digit) % 2 == 0 for digit in str(num)):\n",
        "        result.append(str(num))\n",
        "print(\" \".join(result))"
      ],
      "metadata": {
        "colab": {
          "base_uri": "https://localhost:8080/"
        },
        "id": "1vWtSUKkgG49",
        "outputId": "bef8a4f7-a481-416c-f49c-1fc5816a97c2"
      },
      "execution_count": 33,
      "outputs": [
        {
          "output_type": "stream",
          "name": "stdout",
          "text": [
            "2000 2002 2004 2006 2008 2020 2022 2024 2026 2028 2040 2042 2044 2046 2048 2060 2062 2064 2066 2068 2080 2082 2084 2086 2088 2200 2202 2204 2206 2208 2220 2222 2224 2226 2228 2240 2242 2244 2246 2248 2260 2262 2264 2266 2268 2280 2282 2284 2286 2288 2400 2402 2404 2406 2408 2420 2422 2424 2426 2428 2440 2442 2444 2446 2448 2460 2462 2464 2466 2468 2480 2482 2484 2486 2488 2600 2602 2604 2606 2608 2620 2622 2624 2626 2628 2640 2642 2644 2646 2648 2660 2662 2664 2666 2668 2680 2682 2684 2686 2688 2800 2802 2804 2806 2808 2820 2822 2824 2826 2828 2840 2842 2844 2846 2848 2860 2862 2864 2866 2868 2880 2882 2884 2886 2888\n"
          ]
        }
      ]
    },
    {
      "cell_type": "code",
      "source": [
        "#Problem 11: Robot Distance Calculator\n",
        "\n",
        "x, y = 0, 0\n",
        "\n",
        "while True:\n",
        "    cmd = input()\n",
        "    if cmd == \"!\":\n",
        "        break\n",
        "    direction, steps = cmd.split()\n",
        "    steps = int(steps)\n",
        "\n",
        "    if direction == \"UP\":\n",
        "        y += steps\n",
        "    elif direction == \"DOWN\":\n",
        "        y -= steps\n",
        "    elif direction == \"LEFT\":\n",
        "        x -= steps\n",
        "    elif direction == \"RIGHT\":\n",
        "        x += steps\n",
        "\n",
        "distance = (x**2 + y**2)**0.5\n",
        "print(round(distance))"
      ],
      "metadata": {
        "colab": {
          "base_uri": "https://localhost:8080/"
        },
        "id": "SoFfnuZCgMC9",
        "outputId": "06cedb75-7901-489a-b204-885e704cf0e5"
      },
      "execution_count": 40,
      "outputs": [
        {
          "output_type": "stream",
          "name": "stdout",
          "text": [
            "UP 5  \n",
            "DOWN 3 \n",
            "LEFT 3\n",
            "RIGHT 2\n",
            "!\n",
            "2\n"
          ]
        }
      ]
    },
    {
      "cell_type": "code",
      "source": [
        "#Problem 12: Prime Checker\n",
        "\n",
        "n = int(input(\"Number: \"))\n",
        "if n < 2:\n",
        "    print(\"Not prime\")\n",
        "else:\n",
        "    for i in range(2, int(n**0.5) + 1):\n",
        "        if n % i == 0:\n",
        "            print(\"Not prime\")\n",
        "            break\n",
        "    else:\n",
        "        print(\"Prime\")"
      ],
      "metadata": {
        "colab": {
          "base_uri": "https://localhost:8080/"
        },
        "id": "v--UPenFgRTu",
        "outputId": "4adc35a4-b3fc-45a2-81c0-0e728daf8f46"
      },
      "execution_count": 41,
      "outputs": [
        {
          "output_type": "stream",
          "name": "stdout",
          "text": [
            "Number: 13\n",
            "Prime\n"
          ]
        }
      ]
    },
    {
      "cell_type": "code",
      "source": [
        "#Problem 13: Armstrong Numbers in Range\n",
        "\n",
        "start = int(input(\"Start: \"))\n",
        "end = int(input(\"End: \"))\n",
        "\n",
        "for num in range(start, end+1):\n",
        "    total = 0\n",
        "    temp = num\n",
        "    while temp > 0:\n",
        "        digit = temp % 10\n",
        "        total += digit ** 3\n",
        "        temp //= 10\n",
        "    if total == num:\n",
        "        print(num, end=\" \")"
      ],
      "metadata": {
        "colab": {
          "base_uri": "https://localhost:8080/"
        },
        "id": "gsukwBi1hH0K",
        "outputId": "5cae9009-566b-4a88-a89b-9ca60dff1a74"
      },
      "execution_count": 42,
      "outputs": [
        {
          "output_type": "stream",
          "name": "stdout",
          "text": [
            "Start: 143\n",
            "End: 154\n",
            "153 "
          ]
        }
      ]
    },
    {
      "cell_type": "code",
      "source": [
        "#Problem 14: Clock Angle Calculator\n",
        "\n",
        "H = int(input(\"Hour: \"))\n",
        "M = int(input(\"Minute: \"))\n",
        "\n",
        "angle = abs(30 * H - 5.5 * M)\n",
        "angle = min(angle, 360 - angle)\n",
        "print(int(angle // 1))"
      ],
      "metadata": {
        "colab": {
          "base_uri": "https://localhost:8080/"
        },
        "id": "-JCdhplPhNli",
        "outputId": "6a6c62f2-8318-4c72-c519-775921f08d4c"
      },
      "execution_count": 43,
      "outputs": [
        {
          "output_type": "stream",
          "name": "stdout",
          "text": [
            "Hour: 60\n",
            "Minute: 00\n",
            "-1440\n"
          ]
        }
      ]
    },
    {
      "cell_type": "code",
      "source": [
        "#Problem 15: Rectangle Overlap Checker\n",
        "\n",
        "L1x, L1y = map(int, input(\"L1 (x y): \").split())\n",
        "R1x, R1y = map(int, input(\"R1 (x y): \").split())\n",
        "L2x, L2y = map(int, input(\"L2 (x y): \").split())\n",
        "R2x, R2y = map(int, input(\"R2 (x y): \").split())\n",
        "\n",
        "no_overlap = (R1x < L2x) or (R2x < L1x) or (R1y > L2y) or (R2y > L1y)\n",
        "print(\"Overlap\" if not no_overlap else \"No overlap\")\n"
      ],
      "metadata": {
        "colab": {
          "base_uri": "https://localhost:8080/"
        },
        "id": "4nXpiWPphVwS",
        "outputId": "ec8eb479-9f2c-4613-89d9-7f4ec88fa39e"
      },
      "execution_count": 45,
      "outputs": [
        {
          "output_type": "stream",
          "name": "stdout",
          "text": [
            "L1 (x y): 1 2\n",
            "R1 (x y): 3 4\n",
            "L2 (x y): 5 6\n",
            "R2 (x y): 7 8\n",
            "No overlap\n"
          ]
        }
      ]
    },
    {
      "cell_type": "code",
      "source": [],
      "metadata": {
        "id": "pwIwtMEvhfvq"
      },
      "execution_count": null,
      "outputs": []
    }
  ]
}